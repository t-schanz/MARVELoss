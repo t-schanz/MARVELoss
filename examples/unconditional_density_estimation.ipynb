{
 "cells": [
  {
   "metadata": {},
   "cell_type": "markdown",
   "source": "# Learning to estimate the unconditional density of a multivariate Gaussian distribution using MARVEL",
   "id": "d6e3468d67514ee7"
  },
  {
   "metadata": {
    "ExecuteTime": {
     "end_time": "2024-07-18T12:20:15.023666Z",
     "start_time": "2024-07-18T12:20:09.875795Z"
    }
   },
   "cell_type": "code",
   "source": [
    "import torch\n",
    "from torch import nn\n",
    "from src.marvel_loss import MARVEL\n",
    "import lightning\n",
    "\n",
    "import matplotlib.pyplot as plt\n",
    "\n",
    "import numpy as np\n",
    "from collections.abc import Iterable\n",
    "from torch.distributions import Distribution\n",
    "from torch.utils.data import DataLoader, Dataset\n",
    "from tqdm.auto import tqdm"
   ],
   "id": "5600c3d2e080665b",
   "outputs": [],
   "execution_count": 1
  },
  {
   "metadata": {},
   "cell_type": "markdown",
   "source": "First we will create a dataset that generates samples from a mixture of two normal distributions. The dataset will also generate the latent space input for each sample. The latent space will be used to generate the samples. The dataset will be used to train a model that estimates the density of the samples.",
   "id": "9f371d3ab3433a35"
  },
  {
   "metadata": {
    "ExecuteTime": {
     "end_time": "2024-07-18T12:20:15.033264Z",
     "start_time": "2024-07-18T12:20:15.025170Z"
    }
   },
   "cell_type": "code",
   "source": [
    "class MixtureGeneratorDataset(Dataset):\n",
    "    \"\"\"Dataset for generating unconditional samples from a mixture of distributions.\n",
    "\n",
    "    Args:\n",
    "        latent_space_sampler (Distribution): A torch distribution from which to sample the latent space.\n",
    "        length (int): The length of the dataset.\n",
    "        ensemble_size (int): The number of samples to generate for each data point.\n",
    "        latent_space_len (int): The length of the latent space.\n",
    "        dist_weights (Iterable, optional): This list determines the weights of each sampler. If 2 locs and scales are\n",
    "            given, and the parts is provided as (0.34, 0.66), then the values of the second sampler have twice the\n",
    "            weight in the mixture. Defaults to tuple(1).\n",
    "        sampler (Union[Distribution, list[Distribution]], optional): The samplers to use. If a list is provided, the\n",
    "            length must be the same as the length of dist_weights. Defaults to None.\n",
    "    \"\"\"\n",
    "\n",
    "    def __init__(\n",
    "        self,\n",
    "        latent_space_sampler: Distribution,\n",
    "        length: int,\n",
    "        ensemble_size: int,\n",
    "        latent_space_len: int,\n",
    "        sample_shape: int | list | tuple = 1,\n",
    "        dist_weights: Iterable = (0.5, 0.5),\n",
    "        sampler: Distribution | list[Distribution] = None,\n",
    "    ):\n",
    "        \n",
    "        super().__init__()\n",
    "        self.latent_space_sampler = latent_space_sampler\n",
    "        self.length = length\n",
    "        self.ensemble_size = ensemble_size\n",
    "        self.latent_space_len = latent_space_len\n",
    "        self.sample_shape = sample_shape if isinstance(sample_shape, (list, tuple)) else (sample_shape,)\n",
    "\n",
    "        if not isinstance(sampler, Iterable):\n",
    "            sampler = [sampler]\n",
    "            dist_weights = [1]\n",
    "\n",
    "        self.samplers = sampler\n",
    "\n",
    "        assert sum(dist_weights) == 1, \"The sum of parts must be 1.\"\n",
    "\n",
    "        self.dist_weights = dist_weights\n",
    "\n",
    "        self.y_data = torch.empty((self.length, *self.sample_shape))\n",
    "\n",
    "        used_samples = 0\n",
    "        for i, sampler in enumerate(self.samplers):\n",
    "            this_part = int(self.length * self.dist_weights[i])\n",
    "\n",
    "            self.y_data[used_samples : used_samples + this_part] = sampler.sample(\n",
    "                sample_shape=(this_part, *self.sample_shape)\n",
    "            )\n",
    "            used_samples += this_part\n",
    "\n",
    "        if used_samples < self.length:\n",
    "            self.y_data[used_samples:] = self.samplers[-1].sample(\n",
    "                sample_shape=(self.length - used_samples, *self.sample_shape)\n",
    "            )\n",
    "\n",
    "    def __getitem__(self, item):\n",
    "        \"\"\"Get a sample from the dataset.\n",
    "\n",
    "        Args:\n",
    "            item (int): The index of the sample.\n",
    "\n",
    "        Returns:\n",
    "            tuple: The sample, the target and the latent space. The target is the same as the sample and has shape\n",
    "            (self.sample_shape).\n",
    "        \"\"\"\n",
    "        latent_space = self.latent_space_sampler.sample(sample_shape=(self.ensemble_size, self.latent_space_len))\n",
    "        y_data = self.y_data[item]\n",
    "\n",
    "        return y_data, latent_space\n",
    "    \n",
    "    def __len__(self):\n",
    "        return self.length"
   ],
   "id": "9112cf0e0616244d",
   "outputs": [],
   "execution_count": 2
  },
  {
   "metadata": {},
   "cell_type": "markdown",
   "source": [
    "To initialize the dataset, we will create two normal distributions with different means and variances. \n",
    "We will then create a dataset that samples from these two distributions with a 70/30 ratio."
   ],
   "id": "b5e8e71a50b3365c"
  },
  {
   "metadata": {
    "ExecuteTime": {
     "end_time": "2024-07-18T12:20:15.048247Z",
     "start_time": "2024-07-18T12:20:15.034268Z"
    }
   },
   "cell_type": "code",
   "source": [
    "dataset = MixtureGeneratorDataset(sample_shape=1, \n",
    "                                  ensemble_size=1, \n",
    "                                  latent_space_len=20, \n",
    "                                  latent_space_sampler=torch.distributions.Normal(0, 1), \n",
    "                                  length=int(1e5), \n",
    "                                  sampler=[torch.distributions.Normal(-1, 1), \n",
    "                                                        torch.distributions.Normal(5, 0.3)], \n",
    "                                  dist_weights=[0.3, 0.7])"
   ],
   "id": "dbd785e9f2a28eb9",
   "outputs": [],
   "execution_count": 3
  },
  {
   "metadata": {
    "ExecuteTime": {
     "end_time": "2024-07-18T12:20:16.404500Z",
     "start_time": "2024-07-18T12:20:15.049252Z"
    }
   },
   "cell_type": "code",
   "source": [
    "fig, ax = plt.subplots(figsize=(10, 5))\n",
    "ax.hist(dataset.y_data.flatten(), bins=np.linspace(-5, 7, 100), label=\"Ground truth\", density=True)\n",
    "ax.legend(loc=\"upper left\")\n",
    "plt.show()"
   ],
   "id": "791a84f8a8240f68",
   "outputs": [
    {
     "data": {
      "text/plain": [
       "<Figure size 1000x500 with 1 Axes>"
      ],
      "image/png": "[encoded data removed]"
     },
     "metadata": {},
     "output_type": "display_data"
    }
   ],
   "execution_count": 4
  },
  {
   "metadata": {},
   "cell_type": "markdown",
   "source": "We will now define our neural network. It is nothing special, just a feedforward network with a few layers.",
   "id": "459287952c3d8dbe"
  },
  {
   "metadata": {
    "ExecuteTime": {
     "end_time": "2024-07-18T12:20:16.412140Z",
     "start_time": "2024-07-18T12:20:16.406506Z"
    }
   },
   "cell_type": "code",
   "source": [
    "class UnconditionalFFWNet(nn.Module):\n",
    "    def __init__(\n",
    "        self, layers: list, activation: torch.nn.Module | None = None, batch_norm: bool = False, width: int = None, n_layers:int = None\n",
    "    ):\n",
    "        super().__init__()\n",
    "\n",
    "        if activation is None:\n",
    "            activation = nn.ReLU()\n",
    "\n",
    "        if width is not None:\n",
    "            if n_layers is not None:\n",
    "                layers = [layers[0]] + [width] * n_layers + [layers[-1]]\n",
    "            else:\n",
    "                layers = [layers[0], width, layers[-1]]\n",
    "\n",
    "        self._model = nn.Sequential()\n",
    "        for i in range(len(layers) - 2):\n",
    "            self._model.append(nn.Linear(layers[i], layers[i + 1]))\n",
    "            if batch_norm:\n",
    "                self._model.append(nn.BatchNorm1d(layers[i + 1]))\n",
    "            self._model.append(activation)\n",
    "\n",
    "        # Last layer\n",
    "        self._model.append(nn.Linear(layers[-2], layers[-1]))\n",
    "\n",
    "    def forward(self, noise):\n",
    "        _model_out = self._model(noise)\n",
    "        return _model_out\n"
   ],
   "id": "6668c66f495e60ea",
   "outputs": [],
   "execution_count": 5
  },
  {
   "metadata": {
    "ExecuteTime": {
     "end_time": "2024-07-18T12:20:16.421373Z",
     "start_time": "2024-07-18T12:20:16.413222Z"
    }
   },
   "cell_type": "code",
   "source": [
    "class NormalScaler:\n",
    "    def __init__(self, data_mean, data_std):\n",
    "        self.data_mean = data_mean\n",
    "        self.data_std = data_std\n",
    "        \n",
    "    def transform(self, data):\n",
    "        return (data - self.data_mean) / self.data_std\n",
    "    \n",
    "    def inverse_transform(self, data):\n",
    "        return data * self.data_std + self.data_mean"
   ],
   "id": "a28a077eb819bbb",
   "outputs": [],
   "execution_count": 6
  },
  {
   "metadata": {
    "ExecuteTime": {
     "end_time": "2024-07-18T12:42:04.061972Z",
     "start_time": "2024-07-18T12:20:16.422883Z"
    }
   },
   "cell_type": "code",
   "source": [
    "lightning.seed_everything(41)\n",
    "\n",
    "batch_size = 256  # 256 in the paper\n",
    "ensemble_size = 256 # 256 in the paper\n",
    "target_size = 1\n",
    "latent_space_len = 20\n",
    "training_steps = 20000\n",
    "dataset_length = batch_size * training_steps\n",
    "\n",
    "# initialize the dataset\n",
    "dataset = MixtureGeneratorDataset(sample_shape=target_size, \n",
    "                                  ensemble_size=ensemble_size, \n",
    "                                  latent_space_len=latent_space_len, \n",
    "                                  latent_space_sampler=torch.distributions.Normal(0, 1), \n",
    "                                  length=dataset_length, \n",
    "                                  sampler=[torch.distributions.Normal(-1, 1), \n",
    "                                                        torch.distributions.Normal(5, 0.3)], \n",
    "                                  dist_weights=[0.3, 0.7])\n",
    "\n",
    "# initialize the model. The first layer must be the same as the latent space size, the last layer must be the same as the target size.\n",
    "model = UnconditionalFFWNet(layers=[latent_space_len, 64, 64, 64, 64, target_size], activation=nn.ReLU(), batch_norm=False)\n",
    "\n",
    "# define the transformation function for the marvel loss. We will use the function exp(i * p * x) for the complex exponential.\n",
    "func = [\"lambda x, p: torch.exp(torch.complex(torch.tensor([0.]).type_as(x), torch.tensor([1.]).type_as(x)) * p * x)\"]\n",
    "\n",
    "fabric = lightning.Fabric()\n",
    "fabric.launch()\n",
    "\n",
    "dataset.y_data = dataset.y_data.to(fabric.device)\n",
    "dataloader = torch.utils.data.DataLoader(dataset, batch_size=batch_size, shuffle=True)\n",
    "dataloader = fabric.setup_dataloaders(dataloader)\n",
    "\n",
    "preprocessing = NormalScaler(data_mean=dataset.y_data.mean(), data_std=dataset.y_data.std())\n",
    "\n",
    "loss_func = MARVEL(\n",
    "    centralize=True,\n",
    "    use_first_loss_term=True,\n",
    "    use_random_loss_term=True,\n",
    "    func=func,\n",
    "    n_p_values_per_sample=10,\n",
    "    random_power_max=20,\n",
    "    random_power_min=0,\n",
    "    random_power_warmup_steps=0,\n",
    "    return_random_terms=False,\n",
    "    random_loss_weight=1,\n",
    ").to(fabric.device)\n",
    "\n",
    "\n",
    "optimizer = torch.optim.Adam(params=model.parameters(), lr=0.00001)\n",
    "model, optimizer = fabric.setup(model, optimizer)\n",
    "\n",
    "losses = []\n",
    "\n",
    "for i, batch in tqdm(enumerate(dataloader), total=len(dataloader)):\n",
    "    y, latent = batch\n",
    "    if preprocessing is not None:\n",
    "        y = preprocessing.transform(y)\n",
    "    optimizer.zero_grad()\n",
    "    prediction = model(latent).view(ensemble_size, batch_size, target_size)\n",
    "    \n",
    "    loss = loss_func(prediction, y)[\"loss\"]\n",
    "    fabric.backward(loss)\n",
    "    optimizer.step()\n",
    "    losses.append(loss.item())\n",
    "    \n",
    "    if preprocessing is not None:\n",
    "        prediction = preprocessing.inverse_transform(prediction)\n",
    "        y = preprocessing.inverse_transform(y)\n",
    "    \n",
    "model = model.eval()"
   ],
   "id": "b8d4ae601f10d441",
   "outputs": [
    {
     "name": "stderr",
     "output_type": "stream",
     "text": [
      "Seed set to 41\n"
     ]
    },
    {
     "data": {
      "text/plain": [
       "  0%|          | 0/20000 [00:00<?, ?it/s]"
      ],
      "application/vnd.jupyter.widget-view+json": {
       "version_major": 2,
       "version_minor": 0,
       "model_id": "9aa2b7d74bd14a548c887233ac6a7e8b"
      }
     },
     "metadata": {},
     "output_type": "display_data"
    }
   ],
   "execution_count": 7
  },
  {
   "metadata": {
    "ExecuteTime": {
     "end_time": "2024-07-18T12:43:15.829204Z",
     "start_time": "2024-07-18T12:43:11.736169Z"
    }
   },
   "cell_type": "code",
   "source": [
    "# lets validate the model by making some predictions and comparing them to the ground truth\n",
    "val_steps = 100\n",
    "val_dataset_length = batch_size * val_steps\n",
    "val_dataset = MixtureGeneratorDataset(sample_shape=target_size, \n",
    "                                      ensemble_size=ensemble_size, \n",
    "                                      latent_space_len=latent_space_len, \n",
    "                                      latent_space_sampler=torch.distributions.Normal(0, 1), \n",
    "                                      length=val_dataset_length, \n",
    "                                      sampler=[torch.distributions.Normal(-1, 1), \n",
    "                                                        torch.distributions.Normal(5, 0.3)], \n",
    "                                      dist_weights=[0.3, 0.7])\n",
    "\n",
    "val_dataloader = torch.utils.data.DataLoader(val_dataset, batch_size=batch_size, shuffle=False)\n",
    "val_dataloader = fabric.setup_dataloaders(val_dataloader)\n",
    "\n",
    "val_preds = []\n",
    "\n",
    "for i, batch in tqdm(enumerate(val_dataloader), total=len(val_dataloader)):\n",
    "    y, latent = batch\n",
    "    if preprocessing is not None:\n",
    "        y = preprocessing.transform(y)\n",
    "    prediction = model(latent).view(ensemble_size, batch_size, target_size)\n",
    "    \n",
    "    if preprocessing is not None:\n",
    "        prediction = preprocessing.inverse_transform(prediction)\n",
    "        y = preprocessing.inverse_transform(y)\n",
    "    \n",
    "    val_preds.append(prediction.detach().cpu())"
   ],
   "id": "c88a59a024ba0315",
   "outputs": [
    {
     "data": {
      "text/plain": [
       "  0%|          | 0/100 [00:00<?, ?it/s]"
      ],
      "application/vnd.jupyter.widget-view+json": {
       "version_major": 2,
       "version_minor": 0,
       "model_id": "1f669534cff54a78a8328c32ec585808"
      }
     },
     "metadata": {},
     "output_type": "display_data"
    }
   ],
   "execution_count": 13
  },
  {
   "metadata": {
    "ExecuteTime": {
     "end_time": "2024-07-18T12:43:16.111786Z",
     "start_time": "2024-07-18T12:43:15.830709Z"
    }
   },
   "cell_type": "code",
   "source": [
    "# plot the results\n",
    "\n",
    "ground_truth_data = val_dataset.y_data.cpu().flatten().numpy()\n",
    "prediction_data = torch.cat(val_preds, dim=1)[0].cpu().numpy()\n",
    "\n",
    "fig, ax = plt.subplots(figsize=(10, 5))\n",
    "ax.hist(ground_truth_data, bins=np.linspace(-5, 7, 100), label=\"Ground truth\", density=True)\n",
    "ax.hist(prediction_data, bins=np.linspace(-5, 7, 100), label=\"Prediction\", alpha=0.5, density=True)\n",
    "ax.legend(loc=\"upper left\")\n",
    "plt.show()"
   ],
   "id": "679f6f8394c2a204",
   "outputs": [
    {
     "data": {
      "text/plain": [
       "<Figure size 1000x500 with 1 Axes>"
      ],
      "image/png": "[encoded data removed]"
     },
     "metadata": {},
     "output_type": "display_data"
    }
   ],
   "execution_count": 14
  },
  {
   "metadata": {
    "ExecuteTime": {
     "end_time": "2024-07-18T12:42:08.408298Z",
     "start_time": "2024-07-18T12:42:08.212362Z"
    }
   },
   "cell_type": "code",
   "source": [
    "# plot the loss\n",
    "fig, ax = plt.subplots(figsize=(10, 5))\n",
    "ax.plot(losses)\n",
    "plt.show()"
   ],
   "id": "579e6eff30795eda",
   "outputs": [
    {
     "data": {
      "text/plain": [
       "<Figure size 1000x500 with 1 Axes>"
      ],
      "image/png": "[encoded data removed]"
     },
     "metadata": {},
     "output_type": "display_data"
    }
   ],
   "execution_count": 10
  },
  {
   "metadata": {
    "ExecuteTime": {
     "end_time": "2024-07-18T12:42:08.413398Z",
     "start_time": "2024-07-18T12:42:08.409303Z"
    }
   },
   "cell_type": "code",
   "source": "len(val_dataset.y_data.flatten())",
   "id": "6d5805386cdc5051",
   "outputs": [
    {
     "data": {
      "text/plain": [
       "25600"
      ]
     },
     "execution_count": 11,
     "metadata": {},
     "output_type": "execute_result"
    }
   ],
   "execution_count": 11
  },
  {
   "metadata": {
    "ExecuteTime": {
     "end_time": "2024-07-18T12:42:08.424808Z",
     "start_time": "2024-07-18T12:42:08.415407Z"
    }
   },
   "cell_type": "code",
   "source": "ground_truth_data.shape",
   "id": "ef5bef82de957bf3",
   "outputs": [
    {
     "data": {
      "text/plain": [
       "(25600,)"
      ]
     },
     "execution_count": 12,
     "metadata": {},
     "output_type": "execute_result"
    }
   ],
   "execution_count": 12
  }
 ],
 "metadata": {
  "kernelspec": {
   "display_name": "Python 3",
   "language": "python",
   "name": "python3"
  },
  "language_info": {
   "codemirror_mode": {
    "name": "ipython",
    "version": 2
   },
   "file_extension": ".py",
   "mimetype": "text/x-python",
   "name": "python",
   "nbconvert_exporter": "python",
   "pygments_lexer": "ipython2",
   "version": "2.7.6"
  }
 },
 "nbformat": 4,
 "nbformat_minor": 5
}
